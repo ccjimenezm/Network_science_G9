{
  "nbformat": 4,
  "nbformat_minor": 0,
  "metadata": {
    "colab": {
      "provenance": []
    },
    "kernelspec": {
      "name": "python3",
      "display_name": "Python 3"
    },
    "language_info": {
      "name": "python"
    }
  },
  "cells": [
    {
      "cell_type": "code",
      "execution_count": 47,
      "metadata": {
        "colab": {
          "base_uri": "https://localhost:8080/"
        },
        "id": "doYXr-ZLO0Eu",
        "outputId": "ad0f8f33-a3e5-4a92-8bf3-63d7915bc102"
      },
      "outputs": [
        {
          "output_type": "stream",
          "name": "stdout",
          "text": [
            "Drive already mounted at /content/drive; to attempt to forcibly remount, call drive.mount(\"/content/drive\", force_remount=True).\n"
          ]
        }
      ],
      "source": [
        "from google.colab import drive\n",
        "drive.mount('/content/drive')"
      ]
    },
    {
      "cell_type": "code",
      "source": [
        "%cd /content/drive/MyDrive/Github/Network_science_G9/"
      ],
      "metadata": {
        "colab": {
          "base_uri": "https://localhost:8080/"
        },
        "id": "s8pPcL5pPcRs",
        "outputId": "e8d3f358-fca2-417e-fd4f-231090ee0a99"
      },
      "execution_count": 48,
      "outputs": [
        {
          "output_type": "stream",
          "name": "stdout",
          "text": [
            "/content/drive/MyDrive/Github/Network_science_G9\n"
          ]
        }
      ]
    },
    {
      "cell_type": "code",
      "source": [
        "%matplotlib inline\n",
        "import networkx as nx\n",
        "import numpy as np"
      ],
      "metadata": {
        "id": "ZPX-3ApgQ1In"
      },
      "execution_count": 71,
      "outputs": []
    },
    {
      "cell_type": "code",
      "source": [
        "dataset = open(\"brunson_club-membership/out.brunson_club-membership_club-membership\", \"r\")"
      ],
      "metadata": {
        "id": "Io11r8ndmFY2"
      },
      "execution_count": 50,
      "outputs": []
    },
    {
      "cell_type": "code",
      "source": [
        "list_obj = [item.split(' ') for item in dataset.readlines()]"
      ],
      "metadata": {
        "id": "tLu9K_u6m_Fr"
      },
      "execution_count": 51,
      "outputs": []
    },
    {
      "cell_type": "code",
      "source": [
        "type(int(list_obj[2][0]))"
      ],
      "metadata": {
        "colab": {
          "base_uri": "https://localhost:8080/"
        },
        "id": "q6eR8qbTrjgy",
        "outputId": "15484b23-d93b-4f5d-9ddb-9ed26fa8372e"
      },
      "execution_count": 52,
      "outputs": [
        {
          "output_type": "execute_result",
          "data": {
            "text/plain": [
              "int"
            ]
          },
          "metadata": {},
          "execution_count": 52
        }
      ]
    },
    {
      "cell_type": "code",
      "source": [
        "users = []\n",
        "clubs = []\n",
        "edges = []\n",
        "for x in list_obj:\n",
        "  if x[0] != '%':\n",
        "    edges.append((x[0]+'u',x[1]+'c'))\n",
        "    users.append(int(x[0]))\n",
        "    clubs.append(int(x[1]))"
      ],
      "metadata": {
        "id": "GtyxR4A3qLbb"
      },
      "execution_count": 94,
      "outputs": []
    },
    {
      "cell_type": "code",
      "source": [
        "res = np.array(users) \n",
        "users_uni = np.unique(res) "
      ],
      "metadata": {
        "id": "P63qMkMasbwH"
      },
      "execution_count": 82,
      "outputs": []
    },
    {
      "cell_type": "code",
      "source": [
        "users_uni = np.sort(users_uni).tolist()"
      ],
      "metadata": {
        "id": "7mivEzq5vZnp"
      },
      "execution_count": 83,
      "outputs": []
    },
    {
      "cell_type": "code",
      "source": [
        "users_uni = [str(i) + 'u' for i in users_uni]"
      ],
      "metadata": {
        "id": "c8MvdJS2x6jU"
      },
      "execution_count": 90,
      "outputs": []
    },
    {
      "cell_type": "code",
      "source": [
        "users_uni"
      ],
      "metadata": {
        "colab": {
          "base_uri": "https://localhost:8080/"
        },
        "id": "SpQUS80D17bs",
        "outputId": "24b241f0-e344-44bc-da6a-8a9ae1c9d0de"
      },
      "execution_count": 91,
      "outputs": [
        {
          "output_type": "execute_result",
          "data": {
            "text/plain": [
              "['1u',\n",
              " '2u',\n",
              " '3u',\n",
              " '4u',\n",
              " '5u',\n",
              " '6u',\n",
              " '7u',\n",
              " '8u',\n",
              " '9u',\n",
              " '10u',\n",
              " '11u',\n",
              " '12u',\n",
              " '13u',\n",
              " '14u',\n",
              " '15u',\n",
              " '16u',\n",
              " '17u',\n",
              " '18u',\n",
              " '19u',\n",
              " '20u',\n",
              " '21u',\n",
              " '22u',\n",
              " '23u',\n",
              " '24u',\n",
              " '25u']"
            ]
          },
          "metadata": {},
          "execution_count": 91
        }
      ]
    },
    {
      "cell_type": "code",
      "source": [
        "res = np.array(clubs) \n",
        "clubs_uni = np.unique(res) \n",
        "clubs_uni = np.sort(clubs_uni).tolist()"
      ],
      "metadata": {
        "id": "UZU166BPzvnn"
      },
      "execution_count": 85,
      "outputs": []
    },
    {
      "cell_type": "code",
      "source": [
        "clubs_uni = [str(i) + 'c' for i in clubs_uni]"
      ],
      "metadata": {
        "id": "nDOQ3Ws_z3Jl"
      },
      "execution_count": 92,
      "outputs": []
    },
    {
      "cell_type": "code",
      "source": [
        "clubs_uni"
      ],
      "metadata": {
        "colab": {
          "base_uri": "https://localhost:8080/"
        },
        "id": "VWIWcD942b9V",
        "outputId": "046393fa-e65b-4be2-b8e4-e81d00a50271"
      },
      "execution_count": 93,
      "outputs": [
        {
          "output_type": "execute_result",
          "data": {
            "text/plain": [
              "['1c',\n",
              " '2c',\n",
              " '3c',\n",
              " '4c',\n",
              " '5c',\n",
              " '6c',\n",
              " '7c',\n",
              " '8c',\n",
              " '9c',\n",
              " '10c',\n",
              " '11c',\n",
              " '12c',\n",
              " '13c',\n",
              " '14c',\n",
              " '15c']"
            ]
          },
          "metadata": {},
          "execution_count": 93
        }
      ]
    },
    {
      "cell_type": "code",
      "source": [
        "edges"
      ],
      "metadata": {
        "colab": {
          "base_uri": "https://localhost:8080/"
        },
        "id": "LtzpTHZI28ib",
        "outputId": "7eadcb1c-aa7e-4ef9-b4b8-54dd12118deb"
      },
      "execution_count": 99,
      "outputs": [
        {
          "output_type": "execute_result",
          "data": {
            "text/plain": [
              "[('1u', '1c'),\n",
              " ('1u', '2c'),\n",
              " ('1u', '3c'),\n",
              " ('2u', '1c'),\n",
              " ('2u', '4c'),\n",
              " ('3u', '5c'),\n",
              " ('3u', '1c'),\n",
              " ('3u', '6c'),\n",
              " ('4u', '1c'),\n",
              " ('4u', '7c'),\n",
              " ('4u', '8c'),\n",
              " ('5u', '5c'),\n",
              " ('5u', '1c'),\n",
              " ('5u', '8c'),\n",
              " ('6u', '1c'),\n",
              " ('6u', '9c'),\n",
              " ('6u', '10c'),\n",
              " ('6u', '11c'),\n",
              " ('7u', '9c'),\n",
              " ('7u', '3c'),\n",
              " ('7u', '10c'),\n",
              " ('8u', '12c'),\n",
              " ('8u', '9c'),\n",
              " ('8u', '13c'),\n",
              " ('8u', '10c'),\n",
              " ('9u', '1c'),\n",
              " ('9u', '14c'),\n",
              " ('10u', '5c'),\n",
              " ('10u', '1c'),\n",
              " ('10u', '14c'),\n",
              " ('11u', '9c'),\n",
              " ('11u', '3c'),\n",
              " ('12u', '1c'),\n",
              " ('12u', '9c'),\n",
              " ('12u', '2c'),\n",
              " ('12u', '14c'),\n",
              " ('13u', '5c'),\n",
              " ('13u', '1c'),\n",
              " ('13u', '9c'),\n",
              " ('13u', '11c'),\n",
              " ('13u', '4c'),\n",
              " ('13u', '7c'),\n",
              " ('13u', '6c'),\n",
              " ('14u', '5c'),\n",
              " ('14u', '1c'),\n",
              " ('14u', '15c'),\n",
              " ('14u', '7c'),\n",
              " ('14u', '6c'),\n",
              " ('15u', '5c'),\n",
              " ('15u', '1c'),\n",
              " ('15u', '15c'),\n",
              " ('15u', '13c'),\n",
              " ('15u', '8c'),\n",
              " ('16u', '5c'),\n",
              " ('16u', '1c'),\n",
              " ('16u', '2c'),\n",
              " ('16u', '11c'),\n",
              " ('16u', '4c'),\n",
              " ('16u', '6c'),\n",
              " ('17u', '9c'),\n",
              " ('17u', '14c'),\n",
              " ('17u', '4c'),\n",
              " ('17u', '7c'),\n",
              " ('17u', '6c'),\n",
              " ('18u', '12c'),\n",
              " ('18u', '1c'),\n",
              " ('18u', '9c'),\n",
              " ('18u', '3c'),\n",
              " ('18u', '14c'),\n",
              " ('19u', '5c'),\n",
              " ('19u', '1c'),\n",
              " ('19u', '9c'),\n",
              " ('19u', '11c'),\n",
              " ('19u', '6c'),\n",
              " ('20u', '1c'),\n",
              " ('20u', '9c'),\n",
              " ('20u', '13c'),\n",
              " ('21u', '1c'),\n",
              " ('21u', '13c'),\n",
              " ('21u', '6c'),\n",
              " ('22u', '5c'),\n",
              " ('22u', '1c'),\n",
              " ('22u', '15c'),\n",
              " ('22u', '6c'),\n",
              " ('23u', '12c'),\n",
              " ('23u', '1c'),\n",
              " ('23u', '9c'),\n",
              " ('23u', '15c'),\n",
              " ('23u', '6c'),\n",
              " ('24u', '5c'),\n",
              " ('24u', '1c'),\n",
              " ('24u', '7c'),\n",
              " ('25u', '5c'),\n",
              " ('25u', '1c'),\n",
              " ('25u', '4c')]"
            ]
          },
          "metadata": {},
          "execution_count": 99
        }
      ]
    },
    {
      "cell_type": "code",
      "source": [
        "B = nx.Graph()\n",
        "\n",
        "B.add_nodes_from(users_uni, bipartite=0)\n",
        "B.add_nodes_from(clubs_uni, bipartite=1)\n",
        "\n",
        "B.add_edges_from(edges)"
      ],
      "metadata": {
        "id": "CXYmtNEN0J3l"
      },
      "execution_count": 95,
      "outputs": []
    },
    {
      "cell_type": "code",
      "source": [
        "nx.is_connected(B)"
      ],
      "metadata": {
        "colab": {
          "base_uri": "https://localhost:8080/"
        },
        "id": "pp8aXl5x0pQF",
        "outputId": "c399e506-5363-420d-dccc-33766d6e000e"
      },
      "execution_count": 96,
      "outputs": [
        {
          "output_type": "execute_result",
          "data": {
            "text/plain": [
              "True"
            ]
          },
          "metadata": {},
          "execution_count": 96
        }
      ]
    },
    {
      "cell_type": "code",
      "source": [
        "nx.draw_networkx(B)"
      ],
      "metadata": {
        "colab": {
          "base_uri": "https://localhost:8080/",
          "height": 248
        },
        "id": "Hm9DtOtQ1Ioc",
        "outputId": "0a87d866-c00a-4b00-ca10-f55758120b7d"
      },
      "execution_count": 98,
      "outputs": [
        {
          "output_type": "display_data",
          "data": {
            "text/plain": [
              "<Figure size 432x288 with 1 Axes>"
            ],
            "image/png": "[encoded data removed]"
          },
          "metadata": {}
        }
      ]
    }
  ]
}